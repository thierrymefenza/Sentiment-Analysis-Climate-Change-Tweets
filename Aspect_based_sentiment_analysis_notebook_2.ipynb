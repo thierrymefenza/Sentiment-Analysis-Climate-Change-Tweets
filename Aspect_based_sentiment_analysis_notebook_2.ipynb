{
 "cells": [
  {
   "cell_type": "markdown",
   "metadata": {},
   "source": [
    "<h1><center>Aspect based sentiment analysis of climate change tweets</center></h1>\n",
    "\n"
   ]
  },
  {
   "cell_type": "markdown",
   "metadata": {
    "id": "rusebUQHDkBA"
   },
   "source": [
    "# 1. Data exploration"
   ]
  },
  {
   "cell_type": "code",
   "execution_count": 1,
   "metadata": {
    "id": "03QdcdE7D16N"
   },
   "outputs": [],
   "source": [
    "import pandas as pd\n",
    "import seaborn as sns"
   ]
  },
  {
   "cell_type": "code",
   "execution_count": 22,
   "metadata": {
    "id": "LPTsF75QCPhe"
   },
   "outputs": [],
   "source": [
    "#Loading dataset\n",
    "data= pd.read_csv('twitter_sentiment_data.csv',sep=',')"
   ]
  },
  {
   "cell_type": "code",
   "execution_count": 23,
   "metadata": {
    "colab": {
     "base_uri": "https://localhost:8080/"
    },
    "id": "tQjyQd58FShY",
    "outputId": "1d668068-39d1-4594-b1f9-215900d6eda0"
   },
   "outputs": [
    {
     "data": {
      "text/plain": [
       "(43943, 3)"
      ]
     },
     "execution_count": 23,
     "metadata": {
      "tags": []
     },
     "output_type": "execute_result"
    }
   ],
   "source": [
    "data.shape"
   ]
  },
  {
   "cell_type": "code",
   "execution_count": 25,
   "metadata": {
    "id": "VxKrDWKvCPhh"
   },
   "outputs": [],
   "source": [
    "#We drop duplicates and column tweetid\n",
    "data=data.drop_duplicates(subset=['message'])\n",
    "data=data.drop(columns=['tweetid'])"
   ]
  },
  {
   "cell_type": "markdown",
   "metadata": {
    "id": "N3rvqbdAOg6Q"
   },
   "source": [
    "We clean our dataset"
   ]
  },
  {
   "cell_type": "code",
   "execution_count": 28,
   "metadata": {
    "id": "qoDIWzs3CPhm"
   },
   "outputs": [],
   "source": [
    "\n",
    "from tqdm import tqdm\n",
    "import string\n",
    "import re\n",
    "import nltk\n",
    "\n",
    "#delete '#' in each tweet\n",
    "def remove_hashtags(tokens):\n",
    "    tokens = map(lambda x: x.replace('#', ''), tokens)\n",
    "    return list(tokens)\n",
    "\n",
    "#delete http links in each tweet\n",
    "\n",
    "def remove_url(tokens):\n",
    "    tokens = filter(lambda x: \"http\" not in x, tokens)\n",
    "    return list(tokens)\n",
    "\n",
    "#delete html block in each tweet\n",
    "def remove_html(tokens):\n",
    "    tokens = filter(lambda x: x[0]+x[-1] != '<>', tokens)\n",
    "    return list(tokens)\n",
    "\n",
    "#delete RT  in each tweet\n",
    "\n",
    "def remove_retweet(tokens):\n",
    "    tokens = filter(lambda x: x!= 'RT', tokens)\n",
    "    return list(tokens)\n",
    "\n",
    "def remove_special_characters(tokens):\n",
    "    tokens = filter(lambda x: x!= 'â', tokens)\n",
    "    return list(tokens)\n",
    "\n",
    "def remove_special_characters2(tokens):\n",
    "    tokens = filter(lambda x: x!= '¢', tokens)\n",
    "    return list(tokens)\n",
    "\n",
    "def remove_special_characters3(tokens):\n",
    "    tokens = filter(lambda x: x!= 'ã', tokens)\n",
    "    return list(tokens)\n",
    "\n",
    "\n",
    "#delete names in each tweet\n",
    "def remove_name(tokens):\n",
    "    #tokens = filter(lambda x: x.startswith('@')==False , tokens)\n",
    "    tokens = map(lambda x: x.replace('@', ''), tokens)\n",
    "\n",
    "    return list(tokens)\n",
    "\n",
    "#delete some punctuation\n",
    "\n",
    "punctuation='‚¬¦'+string.punctuation  #Defining a list of punctuation to remove\n",
    "\n",
    "def remove_punctuation(tokens):\n",
    "    tokens = filter(lambda x: x not in punctuation, tokens)\n",
    "    return list(tokens)\n",
    "\n",
    "\n",
    "#delete some words from stopwords\n",
    "stopword = nltk.corpus.stopwords.words('english')\n",
    "\n",
    "def remove_word(tokens):\n",
    "    tokens = filter(lambda x: x not in stopword, tokens)\n",
    "    return list(tokens)\n",
    "\n",
    "\n",
    "\n",
    "\n",
    "\n",
    "def tokenized_cleaned_tweets2(corpus):\n",
    "    tokenizer = TweetTokenizer() \n",
    "    tokenized_sentences = []\n",
    "    for sample in tqdm(corpus):\n",
    "        pat = r'[^a-zA-z0-9.,!?/:;@#\\\"\\'\\s]' \n",
    "        sample=re.sub(pat, '', sample) #remove special characters in tweet\n",
    "        sample=re.sub('[0-9]+', '', sample) #remove numbers in the tweet\n",
    "        tokens = tokenizer.tokenize(sample)\n",
    "        tokens = remove_url(tokens)\n",
    "        tokens = remove_html(tokens)\n",
    "        tokens = remove_hashtags(tokens)\n",
    "        #tokens = remove_retweet(tokens)\n",
    "        #tokens = remove_name(tokens)\n",
    "        tokens = remove_punctuation(tokens)\n",
    "        tokens = remove_word(tokens)  #removing some words\n",
    "        tokens = list(map(lambda x: x.lower(), tokens))\n",
    "        tokenized_sentences.append(tokens)\n",
    "    return tokenized_sentences"
   ]
  },
  {
   "cell_type": "code",
   "execution_count": 29,
   "metadata": {
    "colab": {
     "base_uri": "https://localhost:8080/"
    },
    "id": "u4Ti34XICPhp",
    "outputId": "40d1a2ca-b292-4c17-eaff-cd986a5a31f2"
   },
   "outputs": [
    {
     "name": "stderr",
     "output_type": "stream",
     "text": [
      "100%|██████████| 41033/41033 [00:05<00:00, 6903.61it/s]\n"
     ]
    }
   ],
   "source": [
    "cleaned_data1=tokenized_cleaned_tweets2(data.message.array)"
   ]
  },
  {
   "cell_type": "code",
   "execution_count": 48,
   "metadata": {
    "id": "dwW8feHFCPhr"
   },
   "outputs": [],
   "source": [
    "#We clean each tweet and create a new colum containing the cleaned tweet\n",
    "data['cleaned_tweets']=[' '.join(cleaned_data1[i]) for i in range(len(cleaned_data1)) ]"
   ]
  },
  {
   "cell_type": "code",
   "execution_count": 31,
   "metadata": {
    "colab": {
     "base_uri": "https://localhost:8080/",
     "height": 191
    },
    "id": "Z4NClZdfCPhr",
    "outputId": "82f1ee99-534c-44ed-fdf6-0e180e3dfa95"
   },
   "outputs": [
    {
     "data": {
      "text/html": [
       "<div>\n",
       "<style scoped>\n",
       "    .dataframe tbody tr th:only-of-type {\n",
       "        vertical-align: middle;\n",
       "    }\n",
       "\n",
       "    .dataframe tbody tr th {\n",
       "        vertical-align: top;\n",
       "    }\n",
       "\n",
       "    .dataframe thead th {\n",
       "        text-align: right;\n",
       "    }\n",
       "</style>\n",
       "<table border=\"1\" class=\"dataframe\">\n",
       "  <thead>\n",
       "    <tr style=\"text-align: right;\">\n",
       "      <th></th>\n",
       "      <th>sentiment</th>\n",
       "      <th>message</th>\n",
       "      <th>cleaned_tweets</th>\n",
       "    </tr>\n",
       "  </thead>\n",
       "  <tbody>\n",
       "    <tr>\n",
       "      <th>0</th>\n",
       "      <td>-1</td>\n",
       "      <td>@tiniebeany climate change is an interesting h...</td>\n",
       "      <td>@tiniebeany climate change interesting hustle ...</td>\n",
       "    </tr>\n",
       "    <tr>\n",
       "      <th>1</th>\n",
       "      <td>1</td>\n",
       "      <td>RT @NatGeoChannel: Watch #BeforeTheFlood right...</td>\n",
       "      <td>rt @natgeochannel watch beforetheflood right @...</td>\n",
       "    </tr>\n",
       "    <tr>\n",
       "      <th>2</th>\n",
       "      <td>1</td>\n",
       "      <td>Fabulous! Leonardo #DiCaprio's film on #climat...</td>\n",
       "      <td>fabulous leonardo dicaprio's film climate chan...</td>\n",
       "    </tr>\n",
       "    <tr>\n",
       "      <th>3</th>\n",
       "      <td>1</td>\n",
       "      <td>RT @Mick_Fanning: Just watched this amazing do...</td>\n",
       "      <td>rt @mick_fanning just watched amazing document...</td>\n",
       "    </tr>\n",
       "    <tr>\n",
       "      <th>4</th>\n",
       "      <td>2</td>\n",
       "      <td>RT @cnalive: Pranita Biswasi, a Lutheran from ...</td>\n",
       "      <td>rt @cnalive pranita biswasi lutheran odisha gi...</td>\n",
       "    </tr>\n",
       "  </tbody>\n",
       "</table>\n",
       "</div>"
      ],
      "text/plain": [
       "   sentiment  ...                                     cleaned_tweets\n",
       "0         -1  ...  @tiniebeany climate change interesting hustle ...\n",
       "1          1  ...  rt @natgeochannel watch beforetheflood right @...\n",
       "2          1  ...  fabulous leonardo dicaprio's film climate chan...\n",
       "3          1  ...  rt @mick_fanning just watched amazing document...\n",
       "4          2  ...  rt @cnalive pranita biswasi lutheran odisha gi...\n",
       "\n",
       "[5 rows x 3 columns]"
      ]
     },
     "execution_count": 31,
     "metadata": {
      "tags": []
     },
     "output_type": "execute_result"
    }
   ],
   "source": [
    "data.head()"
   ]
  },
  {
   "cell_type": "markdown",
   "metadata": {
    "id": "LdGeuV5aRB9G"
   },
   "source": [
    "In the following cells, we want to create a dataframe containing for each sentiment $50$ words  with highest occurencies"
   ]
  },
  {
   "cell_type": "code",
   "execution_count": 49,
   "metadata": {
    "id": "mfMaYfJOCPhs"
   },
   "outputs": [],
   "source": [
    "from functools import reduce\n",
    "from operator import add\n"
   ]
  },
  {
   "cell_type": "code",
   "execution_count": 33,
   "metadata": {
    "id": "7PIRJdPICPht"
   },
   "outputs": [],
   "source": [
    "data_pro = data.loc[data['sentiment']==1,'cleaned_tweets'].apply(lambda x: TweetTokenizer().tokenize(x)).array\n",
    "data_pro_contatenated = reduce(add, data_pro)"
   ]
  },
  {
   "cell_type": "code",
   "execution_count": 34,
   "metadata": {
    "id": "GyjeaVYxCPhu"
   },
   "outputs": [],
   "source": [
    "data_anti = data.loc[data['sentiment']==-1,'cleaned_tweets'].apply(lambda x: TweetTokenizer().tokenize(x)).array\n",
    "data_anti_contatenated = reduce(add, data_anti)"
   ]
  },
  {
   "cell_type": "code",
   "execution_count": 35,
   "metadata": {
    "id": "KvY8-vmvCPhv"
   },
   "outputs": [],
   "source": [
    "data_neut= data.loc[data['sentiment']==0,'cleaned_tweets'].apply(lambda x: TweetTokenizer().tokenize(x)).array\n",
    "data_neut_contatenated = reduce(add, data_neut)"
   ]
  },
  {
   "cell_type": "code",
   "execution_count": 36,
   "metadata": {
    "id": "zXb8BxAqCPhw"
   },
   "outputs": [],
   "source": [
    "data_news= data.loc[data['sentiment']==0,'cleaned_tweets'].apply(lambda x: TweetTokenizer().tokenize(x)).array\n",
    "data_news_contatenated = reduce(add, data_news)"
   ]
  },
  {
   "cell_type": "code",
   "execution_count": 37,
   "metadata": {
    "id": "SVmld1RXCPhx"
   },
   "outputs": [],
   "source": [
    "from collections import Counter\n",
    "c_pro = Counter(data_pro_contatenated)\n",
    "c_anti = Counter(data_anti_contatenated)\n",
    "c_neut = Counter(data_neut_contatenated)\n",
    "c_news= Counter(data_news_contatenated)"
   ]
  },
  {
   "cell_type": "code",
   "execution_count": 38,
   "metadata": {
    "id": "dsnC0hhKCPhx"
   },
   "outputs": [],
   "source": [
    "def word_occurencies(dictio,nbre=50):\n",
    "    words=[]\n",
    "    occurencies=[]\n",
    "    for word, occurence in sorted(dictio.items(),  key=lambda t: t[1],reverse=True)[:nbre] :\n",
    "        words.append(word)\n",
    "        occurencies.append(occurence)\n",
    "    return words,occurencies "
   ]
  },
  {
   "cell_type": "code",
   "execution_count": 39,
   "metadata": {
    "id": "5XAW1Gi8CPhy"
   },
   "outputs": [],
   "source": [
    "c={}\n",
    "#Pro\n",
    "c['word_pro']=word_occurencies(c_pro,nbre=50)[0]\n",
    "c['occurencies_pro']=word_occurencies(c_pro,nbre=50)[1]\n",
    "\n",
    "#Anti\n",
    "c['word_anti']=word_occurencies(c_anti,nbre=50)[0]\n",
    "c['occurencies_anti']=word_occurencies(c_anti,nbre=50)[1]\n",
    "\n",
    "#Neutral\n",
    "c['word_neutral']=word_occurencies(c_neut,nbre=50)[0]\n",
    "c['occurencies_neutral']=word_occurencies(c_neut,nbre=50)[1]\n",
    "\n",
    "#News\n",
    "c['word_news']=word_occurencies(c_news,nbre=50)[0]\n",
    "c['occurencies_news']=word_occurencies(c_news,nbre=50)[1]"
   ]
  },
  {
   "cell_type": "code",
   "execution_count": 40,
   "metadata": {
    "id": "eMxdzQphCPhz"
   },
   "outputs": [],
   "source": [
    "WO=pd.DataFrame(data=c)"
   ]
  },
  {
   "cell_type": "markdown",
   "metadata": {
    "id": "08uYr4N5CPh1"
   },
   "source": [
    "Top 50 word of each sentiment"
   ]
  },
  {
   "cell_type": "code",
   "execution_count": 41,
   "metadata": {
    "colab": {
     "base_uri": "https://localhost:8080/",
     "height": 1000
    },
    "id": "ORu9ZURTCPh2",
    "outputId": "e584ace2-8142-4508-cdd8-aef6db17a6d0"
   },
   "outputs": [
    {
     "data": {
      "text/html": [
       "<div>\n",
       "<style scoped>\n",
       "    .dataframe tbody tr th:only-of-type {\n",
       "        vertical-align: middle;\n",
       "    }\n",
       "\n",
       "    .dataframe tbody tr th {\n",
       "        vertical-align: top;\n",
       "    }\n",
       "\n",
       "    .dataframe thead th {\n",
       "        text-align: right;\n",
       "    }\n",
       "</style>\n",
       "<table border=\"1\" class=\"dataframe\">\n",
       "  <thead>\n",
       "    <tr style=\"text-align: right;\">\n",
       "      <th></th>\n",
       "      <th>word_pro</th>\n",
       "      <th>occurencies_pro</th>\n",
       "      <th>word_anti</th>\n",
       "      <th>occurencies_anti</th>\n",
       "      <th>word_neutral</th>\n",
       "      <th>occurencies_neutral</th>\n",
       "      <th>word_news</th>\n",
       "      <th>occurencies_news</th>\n",
       "    </tr>\n",
       "  </thead>\n",
       "  <tbody>\n",
       "    <tr>\n",
       "      <th>0</th>\n",
       "      <td>climate</td>\n",
       "      <td>17698</td>\n",
       "      <td>climate</td>\n",
       "      <td>2292</td>\n",
       "      <td>climate</td>\n",
       "      <td>4528</td>\n",
       "      <td>climate</td>\n",
       "      <td>4528</td>\n",
       "    </tr>\n",
       "    <tr>\n",
       "      <th>1</th>\n",
       "      <td>change</td>\n",
       "      <td>17182</td>\n",
       "      <td>change</td>\n",
       "      <td>2141</td>\n",
       "      <td>change</td>\n",
       "      <td>4428</td>\n",
       "      <td>change</td>\n",
       "      <td>4428</td>\n",
       "    </tr>\n",
       "    <tr>\n",
       "      <th>2</th>\n",
       "      <td>rt</td>\n",
       "      <td>12315</td>\n",
       "      <td>rt</td>\n",
       "      <td>1937</td>\n",
       "      <td>rt</td>\n",
       "      <td>3294</td>\n",
       "      <td>rt</td>\n",
       "      <td>3294</td>\n",
       "    </tr>\n",
       "    <tr>\n",
       "      <th>3</th>\n",
       "      <td>global</td>\n",
       "      <td>3920</td>\n",
       "      <td>global</td>\n",
       "      <td>1854</td>\n",
       "      <td>global</td>\n",
       "      <td>3115</td>\n",
       "      <td>global</td>\n",
       "      <td>3115</td>\n",
       "    </tr>\n",
       "    <tr>\n",
       "      <th>4</th>\n",
       "      <td>warming</td>\n",
       "      <td>3552</td>\n",
       "      <td>warming</td>\n",
       "      <td>1793</td>\n",
       "      <td>warming</td>\n",
       "      <td>3003</td>\n",
       "      <td>warming</td>\n",
       "      <td>3003</td>\n",
       "    </tr>\n",
       "    <tr>\n",
       "      <th>5</th>\n",
       "      <td>the</td>\n",
       "      <td>1932</td>\n",
       "      <td>the</td>\n",
       "      <td>379</td>\n",
       "      <td>i</td>\n",
       "      <td>935</td>\n",
       "      <td>i</td>\n",
       "      <td>935</td>\n",
       "    </tr>\n",
       "    <tr>\n",
       "      <th>6</th>\n",
       "      <td>trump</td>\n",
       "      <td>1556</td>\n",
       "      <td>i</td>\n",
       "      <td>357</td>\n",
       "      <td>...</td>\n",
       "      <td>625</td>\n",
       "      <td>...</td>\n",
       "      <td>625</td>\n",
       "    </tr>\n",
       "    <tr>\n",
       "      <th>7</th>\n",
       "      <td>amp</td>\n",
       "      <td>1546</td>\n",
       "      <td>...</td>\n",
       "      <td>329</td>\n",
       "      <td>the</td>\n",
       "      <td>456</td>\n",
       "      <td>the</td>\n",
       "      <td>456</td>\n",
       "    </tr>\n",
       "    <tr>\n",
       "      <th>8</th>\n",
       "      <td>i</td>\n",
       "      <td>1303</td>\n",
       "      <td>amp</td>\n",
       "      <td>214</td>\n",
       "      <td>trump</td>\n",
       "      <td>378</td>\n",
       "      <td>trump</td>\n",
       "      <td>378</td>\n",
       "    </tr>\n",
       "    <tr>\n",
       "      <th>9</th>\n",
       "      <td>real</td>\n",
       "      <td>1185</td>\n",
       "      <td>hoax</td>\n",
       "      <td>184</td>\n",
       "      <td>amp</td>\n",
       "      <td>325</td>\n",
       "      <td>amp</td>\n",
       "      <td>325</td>\n",
       "    </tr>\n",
       "    <tr>\n",
       "      <th>10</th>\n",
       "      <td>...</td>\n",
       "      <td>1163</td>\n",
       "      <td>science</td>\n",
       "      <td>183</td>\n",
       "      <td>like</td>\n",
       "      <td>312</td>\n",
       "      <td>like</td>\n",
       "      <td>312</td>\n",
       "    </tr>\n",
       "    <tr>\n",
       "      <th>11</th>\n",
       "      <td>believe</td>\n",
       "      <td>1003</td>\n",
       "      <td>obama</td>\n",
       "      <td>174</td>\n",
       "      <td>real</td>\n",
       "      <td>290</td>\n",
       "      <td>real</td>\n",
       "      <td>290</td>\n",
       "    </tr>\n",
       "    <tr>\n",
       "      <th>12</th>\n",
       "      <td>people</td>\n",
       "      <td>898</td>\n",
       "      <td>real</td>\n",
       "      <td>162</td>\n",
       "      <td>us</td>\n",
       "      <td>223</td>\n",
       "      <td>us</td>\n",
       "      <td>223</td>\n",
       "    </tr>\n",
       "    <tr>\n",
       "      <th>13</th>\n",
       "      <td>us</td>\n",
       "      <td>884</td>\n",
       "      <td>trump</td>\n",
       "      <td>149</td>\n",
       "      <td>believe</td>\n",
       "      <td>210</td>\n",
       "      <td>believe</td>\n",
       "      <td>210</td>\n",
       "    </tr>\n",
       "    <tr>\n",
       "      <th>14</th>\n",
       "      <td>we</td>\n",
       "      <td>842</td>\n",
       "      <td>weather</td>\n",
       "      <td>144</td>\n",
       "      <td>people</td>\n",
       "      <td>195</td>\n",
       "      <td>people</td>\n",
       "      <td>195</td>\n",
       "    </tr>\n",
       "    <tr>\n",
       "      <th>15</th>\n",
       "      <td>fight</td>\n",
       "      <td>798</td>\n",
       "      <td>believe</td>\n",
       "      <td>138</td>\n",
       "      <td>if</td>\n",
       "      <td>188</td>\n",
       "      <td>if</td>\n",
       "      <td>188</td>\n",
       "    </tr>\n",
       "    <tr>\n",
       "      <th>16</th>\n",
       "      <td>world</td>\n",
       "      <td>727</td>\n",
       "      <td>people</td>\n",
       "      <td>136</td>\n",
       "      <td>think</td>\n",
       "      <td>183</td>\n",
       "      <td>think</td>\n",
       "      <td>183</td>\n",
       "    </tr>\n",
       "    <tr>\n",
       "      <th>17</th>\n",
       "      <td>like</td>\n",
       "      <td>717</td>\n",
       "      <td>like</td>\n",
       "      <td>133</td>\n",
       "      <td>one</td>\n",
       "      <td>179</td>\n",
       "      <td>one</td>\n",
       "      <td>179</td>\n",
       "    </tr>\n",
       "    <tr>\n",
       "      <th>18</th>\n",
       "      <td>this</td>\n",
       "      <td>685</td>\n",
       "      <td>years</td>\n",
       "      <td>132</td>\n",
       "      <td>said</td>\n",
       "      <td>170</td>\n",
       "      <td>said</td>\n",
       "      <td>170</td>\n",
       "    </tr>\n",
       "    <tr>\n",
       "      <th>19</th>\n",
       "      <td>via</td>\n",
       "      <td>637</td>\n",
       "      <td>@stevesgoddard</td>\n",
       "      <td>131</td>\n",
       "      <td>this</td>\n",
       "      <td>170</td>\n",
       "      <td>this</td>\n",
       "      <td>170</td>\n",
       "    </tr>\n",
       "    <tr>\n",
       "      <th>20</th>\n",
       "      <td>new</td>\n",
       "      <td>630</td>\n",
       "      <td>us</td>\n",
       "      <td>130</td>\n",
       "      <td>new</td>\n",
       "      <td>156</td>\n",
       "      <td>new</td>\n",
       "      <td>156</td>\n",
       "    </tr>\n",
       "    <tr>\n",
       "      <th>21</th>\n",
       "      <td>science</td>\n",
       "      <td>602</td>\n",
       "      <td>scam</td>\n",
       "      <td>130</td>\n",
       "      <td>world</td>\n",
       "      <td>155</td>\n",
       "      <td>world</td>\n",
       "      <td>155</td>\n",
       "    </tr>\n",
       "    <tr>\n",
       "      <th>22</th>\n",
       "      <td>need</td>\n",
       "      <td>592</td>\n",
       "      <td>man</td>\n",
       "      <td>127</td>\n",
       "      <td>know</td>\n",
       "      <td>147</td>\n",
       "      <td>know</td>\n",
       "      <td>147</td>\n",
       "    </tr>\n",
       "    <tr>\n",
       "      <th>23</th>\n",
       "      <td>one</td>\n",
       "      <td>567</td>\n",
       "      <td>made</td>\n",
       "      <td>121</td>\n",
       "      <td>get</td>\n",
       "      <td>144</td>\n",
       "      <td>get</td>\n",
       "      <td>144</td>\n",
       "    </tr>\n",
       "    <tr>\n",
       "      <th>24</th>\n",
       "      <td>think</td>\n",
       "      <td>546</td>\n",
       "      <td>data</td>\n",
       "      <td>119</td>\n",
       "      <td>what</td>\n",
       "      <td>142</td>\n",
       "      <td>what</td>\n",
       "      <td>142</td>\n",
       "    </tr>\n",
       "    <tr>\n",
       "      <th>25</th>\n",
       "      <td>how</td>\n",
       "      <td>526</td>\n",
       "      <td>one</td>\n",
       "      <td>117</td>\n",
       "      <td>cause</td>\n",
       "      <td>142</td>\n",
       "      <td>cause</td>\n",
       "      <td>142</td>\n",
       "    </tr>\n",
       "    <tr>\n",
       "      <th>26</th>\n",
       "      <td>a</td>\n",
       "      <td>521</td>\n",
       "      <td>gore</td>\n",
       "      <td>115</td>\n",
       "      <td>hot</td>\n",
       "      <td>139</td>\n",
       "      <td>hot</td>\n",
       "      <td>139</td>\n",
       "    </tr>\n",
       "    <tr>\n",
       "      <th>27</th>\n",
       "      <td>action</td>\n",
       "      <td>498</td>\n",
       "      <td>scientists</td>\n",
       "      <td>112</td>\n",
       "      <td>says</td>\n",
       "      <td>139</td>\n",
       "      <td>says</td>\n",
       "      <td>139</td>\n",
       "    </tr>\n",
       "    <tr>\n",
       "      <th>28</th>\n",
       "      <td>if</td>\n",
       "      <td>497</td>\n",
       "      <td>if</td>\n",
       "      <td>112</td>\n",
       "      <td>would</td>\n",
       "      <td>139</td>\n",
       "      <td>would</td>\n",
       "      <td>139</td>\n",
       "    </tr>\n",
       "    <tr>\n",
       "      <th>29</th>\n",
       "      <td>know</td>\n",
       "      <td>470</td>\n",
       "      <td>al</td>\n",
       "      <td>111</td>\n",
       "      <td>weather</td>\n",
       "      <td>138</td>\n",
       "      <td>weather</td>\n",
       "      <td>138</td>\n",
       "    </tr>\n",
       "    <tr>\n",
       "      <th>30</th>\n",
       "      <td>epa</td>\n",
       "      <td>446</td>\n",
       "      <td>fake</td>\n",
       "      <td>110</td>\n",
       "      <td>i'm</td>\n",
       "      <td>132</td>\n",
       "      <td>i'm</td>\n",
       "      <td>132</td>\n",
       "    </tr>\n",
       "    <tr>\n",
       "      <th>31</th>\n",
       "      <td>hoax</td>\n",
       "      <td>445</td>\n",
       "      <td>via</td>\n",
       "      <td>109</td>\n",
       "      <td>a</td>\n",
       "      <td>130</td>\n",
       "      <td>a</td>\n",
       "      <td>130</td>\n",
       "    </tr>\n",
       "    <tr>\n",
       "      <th>32</th>\n",
       "      <td>scientists</td>\n",
       "      <td>433</td>\n",
       "      <td>manmade</td>\n",
       "      <td>106</td>\n",
       "      <td>good</td>\n",
       "      <td>127</td>\n",
       "      <td>good</td>\n",
       "      <td>127</td>\n",
       "    </tr>\n",
       "    <tr>\n",
       "      <th>33</th>\n",
       "      <td>could</td>\n",
       "      <td>424</td>\n",
       "      <td>this</td>\n",
       "      <td>105</td>\n",
       "      <td>could</td>\n",
       "      <td>124</td>\n",
       "      <td>could</td>\n",
       "      <td>124</td>\n",
       "    </tr>\n",
       "    <tr>\n",
       "      <th>34</th>\n",
       "      <td>time</td>\n",
       "      <td>416</td>\n",
       "      <td>@realdonaldtrump</td>\n",
       "      <td>103</td>\n",
       "      <td>say</td>\n",
       "      <td>124</td>\n",
       "      <td>say</td>\n",
       "      <td>124</td>\n",
       "    </tr>\n",
       "    <tr>\n",
       "      <th>35</th>\n",
       "      <td>still</td>\n",
       "      <td>415</td>\n",
       "      <td>would</td>\n",
       "      <td>103</td>\n",
       "      <td>you</td>\n",
       "      <td>120</td>\n",
       "      <td>you</td>\n",
       "      <td>120</td>\n",
       "    </tr>\n",
       "    <tr>\n",
       "      <th>36</th>\n",
       "      <td>president</td>\n",
       "      <td>407</td>\n",
       "      <td>world</td>\n",
       "      <td>99</td>\n",
       "      <td>via</td>\n",
       "      <td>117</td>\n",
       "      <td>via</td>\n",
       "      <td>117</td>\n",
       "    </tr>\n",
       "    <tr>\n",
       "      <th>37</th>\n",
       "      <td>stop</td>\n",
       "      <td>406</td>\n",
       "      <td>liberals</td>\n",
       "      <td>97</td>\n",
       "      <td>is</td>\n",
       "      <td>117</td>\n",
       "      <td>is</td>\n",
       "      <td>117</td>\n",
       "    </tr>\n",
       "    <tr>\n",
       "      <th>38</th>\n",
       "      <td>deniers</td>\n",
       "      <td>400</td>\n",
       "      <td>it's</td>\n",
       "      <td>96</td>\n",
       "      <td>thing</td>\n",
       "      <td>116</td>\n",
       "      <td>thing</td>\n",
       "      <td>116</td>\n",
       "    </tr>\n",
       "    <tr>\n",
       "      <th>39</th>\n",
       "      <td>climatechange</td>\n",
       "      <td>394</td>\n",
       "      <td>no</td>\n",
       "      <td>95</td>\n",
       "      <td>hoax</td>\n",
       "      <td>115</td>\n",
       "      <td>hoax</td>\n",
       "      <td>115</td>\n",
       "    </tr>\n",
       "    <tr>\n",
       "      <th>40</th>\n",
       "      <td>:/</td>\n",
       "      <td>391</td>\n",
       "      <td>know</td>\n",
       "      <td>93</td>\n",
       "      <td>going</td>\n",
       "      <td>115</td>\n",
       "      <td>going</td>\n",
       "      <td>115</td>\n",
       "    </tr>\n",
       "    <tr>\n",
       "      <th>41</th>\n",
       "      <td>take</td>\n",
       "      <td>389</td>\n",
       "      <td>you</td>\n",
       "      <td>92</td>\n",
       "      <td>really</td>\n",
       "      <td>115</td>\n",
       "      <td>really</td>\n",
       "      <td>115</td>\n",
       "    </tr>\n",
       "    <tr>\n",
       "      <th>42</th>\n",
       "      <td>weather</td>\n",
       "      <td>370</td>\n",
       "      <td>think</td>\n",
       "      <td>88</td>\n",
       "      <td>need</td>\n",
       "      <td>114</td>\n",
       "      <td>need</td>\n",
       "      <td>114</td>\n",
       "    </tr>\n",
       "    <tr>\n",
       "      <th>43</th>\n",
       "      <td>denier</td>\n",
       "      <td>363</td>\n",
       "      <td>news</td>\n",
       "      <td>87</td>\n",
       "      <td>how</td>\n",
       "      <td>112</td>\n",
       "      <td>how</td>\n",
       "      <td>112</td>\n",
       "    </tr>\n",
       "    <tr>\n",
       "      <th>44</th>\n",
       "      <td>@realdonaldtrump</td>\n",
       "      <td>360</td>\n",
       "      <td>ice</td>\n",
       "      <td>86</td>\n",
       "      <td>u</td>\n",
       "      <td>112</td>\n",
       "      <td>u</td>\n",
       "      <td>112</td>\n",
       "    </tr>\n",
       "    <tr>\n",
       "      <th>45</th>\n",
       "      <td>help</td>\n",
       "      <td>357</td>\n",
       "      <td>new</td>\n",
       "      <td>84</td>\n",
       "      <td>talk</td>\n",
       "      <td>112</td>\n",
       "      <td>talk</td>\n",
       "      <td>112</td>\n",
       "    </tr>\n",
       "    <tr>\n",
       "      <th>46</th>\n",
       "      <td>energy</td>\n",
       "      <td>354</td>\n",
       "      <td>get</td>\n",
       "      <td>83</td>\n",
       "      <td>so</td>\n",
       "      <td>110</td>\n",
       "      <td>so</td>\n",
       "      <td>110</td>\n",
       "    </tr>\n",
       "    <tr>\n",
       "      <th>47</th>\n",
       "      <td>would</td>\n",
       "      <td>349</td>\n",
       "      <td>money</td>\n",
       "      <td>78</td>\n",
       "      <td>make</td>\n",
       "      <td>110</td>\n",
       "      <td>make</td>\n",
       "      <td>110</td>\n",
       "    </tr>\n",
       "    <tr>\n",
       "      <th>48</th>\n",
       "      <td>planet</td>\n",
       "      <td>346</td>\n",
       "      <td>..</td>\n",
       "      <td>77</td>\n",
       "      <td>right</td>\n",
       "      <td>109</td>\n",
       "      <td>right</td>\n",
       "      <td>109</td>\n",
       "    </tr>\n",
       "    <tr>\n",
       "      <th>49</th>\n",
       "      <td>must</td>\n",
       "      <td>345</td>\n",
       "      <td>so</td>\n",
       "      <td>77</td>\n",
       "      <td>cold</td>\n",
       "      <td>109</td>\n",
       "      <td>cold</td>\n",
       "      <td>109</td>\n",
       "    </tr>\n",
       "  </tbody>\n",
       "</table>\n",
       "</div>"
      ],
      "text/plain": [
       "            word_pro  occurencies_pro  ... word_news  occurencies_news\n",
       "0            climate            17698  ...   climate              4528\n",
       "1             change            17182  ...    change              4428\n",
       "2                 rt            12315  ...        rt              3294\n",
       "3             global             3920  ...    global              3115\n",
       "4            warming             3552  ...   warming              3003\n",
       "5                the             1932  ...         i               935\n",
       "6              trump             1556  ...       ...               625\n",
       "7                amp             1546  ...       the               456\n",
       "8                  i             1303  ...     trump               378\n",
       "9               real             1185  ...       amp               325\n",
       "10               ...             1163  ...      like               312\n",
       "11           believe             1003  ...      real               290\n",
       "12            people              898  ...        us               223\n",
       "13                us              884  ...   believe               210\n",
       "14                we              842  ...    people               195\n",
       "15             fight              798  ...        if               188\n",
       "16             world              727  ...     think               183\n",
       "17              like              717  ...       one               179\n",
       "18              this              685  ...      said               170\n",
       "19               via              637  ...      this               170\n",
       "20               new              630  ...       new               156\n",
       "21           science              602  ...     world               155\n",
       "22              need              592  ...      know               147\n",
       "23               one              567  ...       get               144\n",
       "24             think              546  ...      what               142\n",
       "25               how              526  ...     cause               142\n",
       "26                 a              521  ...       hot               139\n",
       "27            action              498  ...      says               139\n",
       "28                if              497  ...     would               139\n",
       "29              know              470  ...   weather               138\n",
       "30               epa              446  ...       i'm               132\n",
       "31              hoax              445  ...         a               130\n",
       "32        scientists              433  ...      good               127\n",
       "33             could              424  ...     could               124\n",
       "34              time              416  ...       say               124\n",
       "35             still              415  ...       you               120\n",
       "36         president              407  ...       via               117\n",
       "37              stop              406  ...        is               117\n",
       "38           deniers              400  ...     thing               116\n",
       "39     climatechange              394  ...      hoax               115\n",
       "40                :/              391  ...     going               115\n",
       "41              take              389  ...    really               115\n",
       "42           weather              370  ...      need               114\n",
       "43            denier              363  ...       how               112\n",
       "44  @realdonaldtrump              360  ...         u               112\n",
       "45              help              357  ...      talk               112\n",
       "46            energy              354  ...        so               110\n",
       "47             would              349  ...      make               110\n",
       "48            planet              346  ...     right               109\n",
       "49              must              345  ...      cold               109\n",
       "\n",
       "[50 rows x 8 columns]"
      ]
     },
     "execution_count": 41,
     "metadata": {
      "tags": []
     },
     "output_type": "execute_result"
    }
   ],
   "source": [
    "WO"
   ]
  },
  {
   "cell_type": "markdown",
   "metadata": {
    "id": "roifn1kgCPh3"
   },
   "source": [
    "We can see that for each sentiment, the words with the highest occurencies are climate, change, warming, global. This is not surprising since the topic is about those words. We can also see that the pro and the anti climate use the same arguments to defend their position. As a matter of fact, science and belief are used for the same goal. The presence of words Obama and trump are not surprising due to their political impact and on their opposite positions on this topic. Let us generate word clouds on different sentiments in order to visualize the most common word expressions."
   ]
  },
  {
   "cell_type": "code",
   "execution_count": 42,
   "metadata": {
    "id": "MvA2KhaxCPh3"
   },
   "outputs": [],
   "source": [
    "text_pro=str(data.loc[data['sentiment']==1,'cleaned_tweets'])\n",
    "text_anti=str(data.loc[data['sentiment']==-1,'cleaned_tweets'])\n",
    "text_neutral=str(data.loc[data['sentiment']==0,'cleaned_tweets'])\n",
    "text_news=str(data.loc[data['sentiment']==2,'cleaned_tweets'])\n"
   ]
  },
  {
   "cell_type": "code",
   "execution_count": 43,
   "metadata": {
    "colab": {
     "base_uri": "https://localhost:8080/"
    },
    "id": "1LWUkbRQCPh4",
    "outputId": "b3a78a2d-6da9-4aab-a555-4249f5e46982"
   },
   "outputs": [
    {
     "name": "stdout",
     "output_type": "stream",
     "text": [
      "Requirement already satisfied: wordcloud in /usr/local/lib/python3.7/dist-packages (1.5.0)\n",
      "Requirement already satisfied: numpy>=1.6.1 in /usr/local/lib/python3.7/dist-packages (from wordcloud) (1.19.5)\n",
      "Requirement already satisfied: pillow in /usr/local/lib/python3.7/dist-packages (from wordcloud) (7.1.2)\n"
     ]
    }
   ],
   "source": [
    "!pip install wordcloud"
   ]
  },
  {
   "cell_type": "code",
   "execution_count": 44,
   "metadata": {
    "colab": {
     "base_uri": "https://localhost:8080/",
     "height": 213
    },
    "id": "5TGWivshCPh5",
    "outputId": "f79a20d7-0f7f-4b0d-c7f6-b6eb4567f306"
   },
   "outputs": [
    {
     "data": {
      "image/png": "[encoded data removed]",
      "text/plain": [
       "<Figure size 432x288 with 1 Axes>"
      ]
     },
     "metadata": {
      "needs_background": "light",
      "tags": []
     },
     "output_type": "display_data"
    }
   ],
   "source": [
    "from wordcloud import WordCloud,STOPWORDS, ImageColorGenerator\n",
    "import matplotlib.pyplot as plt\n",
    "\n",
    "wordcloud = WordCloud(max_font_size=50, max_words=100, background_color=\"white\").generate(text_pro)\n",
    "plt.figure()\n",
    "plt.imshow(wordcloud, interpolation=\"bilinear\")\n",
    "plt.title(\"Word Cloud pro climate\")\n",
    "plt.axis(\"off\")\n",
    "plt.show()"
   ]
  },
  {
   "cell_type": "code",
   "execution_count": 45,
   "metadata": {
    "colab": {
     "base_uri": "https://localhost:8080/",
     "height": 213
    },
    "id": "WGFwRegaCPh6",
    "outputId": "bb51670a-03a5-4502-afb3-54d6c443e9b6"
   },
   "outputs": [
    {
     "data": {
      "image/png": "[encoded data removed]",
      "text/plain": [
       "<Figure size 432x288 with 1 Axes>"
      ]
     },
     "metadata": {
      "needs_background": "light",
      "tags": []
     },
     "output_type": "display_data"
    }
   ],
   "source": [
    "wordcloud = WordCloud(max_font_size=50, max_words=100, background_color=\"white\").generate(text_anti)\n",
    "wordcloud1 = WordCloud(max_font_size=50, max_words=100, background_color=\"white\").generate(text_neutral)\n",
    "\n",
    "plt.figure()\n",
    "plt.imshow(wordcloud, interpolation=\"bilinear\")\n",
    "plt.title(\"Word Cloud anti climate\")\n",
    "plt.axis(\"off\")\n",
    "plt.show()"
   ]
  },
  {
   "cell_type": "code",
   "execution_count": 46,
   "metadata": {
    "colab": {
     "base_uri": "https://localhost:8080/",
     "height": 213
    },
    "id": "HHr307MlCPh7",
    "outputId": "b61f3ddc-0dec-4688-d20d-fb3b9269a706"
   },
   "outputs": [
    {
     "data": {
      "image/png": "[encoded data removed]",
      "text/plain": [
       "<Figure size 432x288 with 1 Axes>"
      ]
     },
     "metadata": {
      "needs_background": "light",
      "tags": []
     },
     "output_type": "display_data"
    }
   ],
   "source": [
    "wordcloud= WordCloud(max_font_size=50, max_words=100, background_color=\"white\").generate(text_neutral)\n",
    "\n",
    "plt.figure()\n",
    "plt.imshow(wordcloud, interpolation=\"bilinear\")\n",
    "plt.title(\"Word Cloud neutral sentiment\")\n",
    "plt.axis(\"off\")\n",
    "plt.show()"
   ]
  },
  {
   "cell_type": "code",
   "execution_count": 47,
   "metadata": {
    "colab": {
     "base_uri": "https://localhost:8080/",
     "height": 213
    },
    "id": "b1uc_uJDCPh8",
    "outputId": "69a587d1-3c29-4216-d090-594123f6928c"
   },
   "outputs": [
    {
     "data": {
      "image/png": "[encoded data removed]",
      "text/plain": [
       "<Figure size 432x288 with 1 Axes>"
      ]
     },
     "metadata": {
      "needs_background": "light",
      "tags": []
     },
     "output_type": "display_data"
    }
   ],
   "source": [
    "wordcloud= WordCloud(max_font_size=50, max_words=100, background_color=\"white\").generate(text_news)\n",
    "\n",
    "plt.figure()\n",
    "plt.imshow(wordcloud, interpolation=\"bilinear\")\n",
    "plt.title(\"Word Cloud news sentiment\")\n",
    "plt.axis(\"off\")\n",
    "plt.show()"
   ]
  },
  {
   "cell_type": "markdown",
   "metadata": {
    "id": "DUq62byNS_wL"
   },
   "source": [
    "# 2. Aspect Based Sentiment Analysis"
   ]
  },
  {
   "cell_type": "markdown",
   "metadata": {
    "id": "8OLZ-o-MTY5a"
   },
   "source": [
    "We first clean again our tweets (by removing RT and name starting with @ but keeping words in stopword) \n"
   ]
  },
  {
   "cell_type": "code",
   "execution_count": 55,
   "metadata": {
    "id": "Wkw6tEPKXGBc"
   },
   "outputs": [],
   "source": [
    "#delete names in each tweet\n",
    "def remove_name(tokens):\n",
    "    tokens = filter(lambda x: x.startswith('@')==False , tokens)\n",
    "    #tokens = map(lambda x: x.replace('@', ''), tokens)\n",
    "\n",
    "    return list(tokens)\n",
    "\n",
    "\n",
    "def tokenized_cleaned_tweets3(corpus):\n",
    "    tokenizer = TweetTokenizer() \n",
    "    tokenized_sentences = []\n",
    "    for sample in tqdm(corpus):\n",
    "        pat = r'[^a-zA-z0-9.,!?/:;@#\\\"\\'\\s]' \n",
    "        sample=re.sub(pat, '', sample) #remove special characters in tweet\n",
    "        sample=re.sub('[0-9]+', '', sample) #remove numbers in the tweet\n",
    "        tokens = tokenizer.tokenize(sample)\n",
    "        tokens = remove_url(tokens)\n",
    "        tokens = remove_html(tokens)\n",
    "        tokens = remove_hashtags(tokens)\n",
    "        tokens = remove_retweet(tokens)\n",
    "        tokens = remove_name(tokens)\n",
    "        tokens = remove_punctuation(tokens)\n",
    "        #tokens = remove_word(tokens)  #removing some words\n",
    "        tokens = list(map(lambda x: x.lower(), tokens))\n",
    "        tokenized_sentences.append(tokens)\n",
    "    return tokenized_sentences\n"
   ]
  },
  {
   "cell_type": "code",
   "execution_count": 56,
   "metadata": {
    "colab": {
     "base_uri": "https://localhost:8080/"
    },
    "id": "TGIc8seVTXvE",
    "outputId": "25e66363-f71b-42c2-f28a-cfc33015026c"
   },
   "outputs": [
    {
     "name": "stderr",
     "output_type": "stream",
     "text": [
      "100%|██████████| 41033/41033 [00:04<00:00, 9784.30it/s] \n"
     ]
    }
   ],
   "source": [
    "cleaned_data2=tokenized_cleaned_tweets3(data.message.array)"
   ]
  },
  {
   "cell_type": "code",
   "execution_count": 57,
   "metadata": {
    "id": "j8-Px22DTJNw"
   },
   "outputs": [],
   "source": [
    "#our new cleaned tweets\n",
    "data['cleaned_tweets']=[' '.join(cleaned_data2[i]) for i in range(len(cleaned_data2)) ]"
   ]
  },
  {
   "cell_type": "code",
   "execution_count": 59,
   "metadata": {
    "colab": {
     "base_uri": "https://localhost:8080/"
    },
    "id": "EmUmFuq7CPh8",
    "outputId": "4985e434-95fe-4009-f17d-7e58e1df29b2"
   },
   "outputs": [
    {
     "name": "stdout",
     "output_type": "stream",
     "text": [
      "@tiniebeany climate change is an interesting hustle as it was global warming but the planet stopped warming for 15 yes while the suv boom\n",
      "climate change is an interesting hustle as it was global warming but the planet stopped warming for yes while the suv boom\n"
     ]
    }
   ],
   "source": [
    "print(data['message'][0])\n",
    "print(data['cleaned_tweets'][0])"
   ]
  },
  {
   "cell_type": "code",
   "execution_count": 64,
   "metadata": {
    "colab": {
     "base_uri": "https://localhost:8080/"
    },
    "id": "faibXui-bVMV",
    "outputId": "f5ef639d-04e5-4cae-b93a-0f40476e296a"
   },
   "outputs": [
    {
     "name": "stdout",
     "output_type": "stream",
     "text": [
      "Collecting stanza\n",
      "\u001b[?25l  Downloading https://files.pythonhosted.org/packages/50/ae/a70a58ce6b4e2daad538688806ee0f238dbe601954582a74ea57cde6c532/stanza-1.2-py3-none-any.whl (282kB)\n",
      "\r",
      "\u001b[K     |█▏                              | 10kB 13.5MB/s eta 0:00:01\r",
      "\u001b[K     |██▎                             | 20kB 19.2MB/s eta 0:00:01\r",
      "\u001b[K     |███▌                            | 30kB 11.5MB/s eta 0:00:01\r",
      "\u001b[K     |████▋                           | 40kB 7.4MB/s eta 0:00:01\r",
      "\u001b[K     |█████▉                          | 51kB 8.4MB/s eta 0:00:01\r",
      "\u001b[K     |███████                         | 61kB 7.4MB/s eta 0:00:01\r",
      "\u001b[K     |████████▏                       | 71kB 7.4MB/s eta 0:00:01\r",
      "\u001b[K     |█████████▎                      | 81kB 8.0MB/s eta 0:00:01\r",
      "\u001b[K     |██████████▌                     | 92kB 8.1MB/s eta 0:00:01\r",
      "\u001b[K     |███████████▋                    | 102kB 8.0MB/s eta 0:00:01\r",
      "\u001b[K     |████████████▉                   | 112kB 8.0MB/s eta 0:00:01\r",
      "\u001b[K     |██████████████                  | 122kB 8.0MB/s eta 0:00:01\r",
      "\u001b[K     |███████████████                 | 133kB 8.0MB/s eta 0:00:01\r",
      "\u001b[K     |████████████████▎               | 143kB 8.0MB/s eta 0:00:01\r",
      "\u001b[K     |█████████████████▍              | 153kB 8.0MB/s eta 0:00:01\r",
      "\u001b[K     |██████████████████▋             | 163kB 8.0MB/s eta 0:00:01\r",
      "\u001b[K     |███████████████████▊            | 174kB 8.0MB/s eta 0:00:01\r",
      "\u001b[K     |█████████████████████           | 184kB 8.0MB/s eta 0:00:01\r",
      "\u001b[K     |██████████████████████          | 194kB 8.0MB/s eta 0:00:01\r",
      "\u001b[K     |███████████████████████▎        | 204kB 8.0MB/s eta 0:00:01\r",
      "\u001b[K     |████████████████████████▍       | 215kB 8.0MB/s eta 0:00:01\r",
      "\u001b[K     |█████████████████████████▋      | 225kB 8.0MB/s eta 0:00:01\r",
      "\u001b[K     |██████████████████████████▊     | 235kB 8.0MB/s eta 0:00:01\r",
      "\u001b[K     |███████████████████████████▉    | 245kB 8.0MB/s eta 0:00:01\r",
      "\u001b[K     |█████████████████████████████   | 256kB 8.0MB/s eta 0:00:01\r",
      "\u001b[K     |██████████████████████████████▏ | 266kB 8.0MB/s eta 0:00:01\r",
      "\u001b[K     |███████████████████████████████▍| 276kB 8.0MB/s eta 0:00:01\r",
      "\u001b[K     |████████████████████████████████| 286kB 8.0MB/s \n",
      "\u001b[?25hRequirement already satisfied, skipping upgrade: requests in /usr/local/lib/python3.7/dist-packages (from stanza) (2.23.0)\n",
      "Requirement already satisfied, skipping upgrade: tqdm in /usr/local/lib/python3.7/dist-packages (from stanza) (4.41.1)\n",
      "Requirement already satisfied, skipping upgrade: numpy in /usr/local/lib/python3.7/dist-packages (from stanza) (1.19.5)\n",
      "Requirement already satisfied, skipping upgrade: torch>=1.3.0 in /usr/local/lib/python3.7/dist-packages (from stanza) (1.8.1+cu101)\n",
      "Requirement already satisfied, skipping upgrade: protobuf in /usr/local/lib/python3.7/dist-packages (from stanza) (3.12.4)\n",
      "Requirement already satisfied, skipping upgrade: certifi>=2017.4.17 in /usr/local/lib/python3.7/dist-packages (from requests->stanza) (2020.12.5)\n",
      "Requirement already satisfied, skipping upgrade: chardet<4,>=3.0.2 in /usr/local/lib/python3.7/dist-packages (from requests->stanza) (3.0.4)\n",
      "Requirement already satisfied, skipping upgrade: idna<3,>=2.5 in /usr/local/lib/python3.7/dist-packages (from requests->stanza) (2.10)\n",
      "Requirement already satisfied, skipping upgrade: urllib3!=1.25.0,!=1.25.1,<1.26,>=1.21.1 in /usr/local/lib/python3.7/dist-packages (from requests->stanza) (1.24.3)\n",
      "Requirement already satisfied, skipping upgrade: typing-extensions in /usr/local/lib/python3.7/dist-packages (from torch>=1.3.0->stanza) (3.7.4.3)\n",
      "Requirement already satisfied, skipping upgrade: six>=1.9 in /usr/local/lib/python3.7/dist-packages (from protobuf->stanza) (1.15.0)\n",
      "Requirement already satisfied, skipping upgrade: setuptools in /usr/local/lib/python3.7/dist-packages (from protobuf->stanza) (56.0.0)\n",
      "Installing collected packages: stanza\n",
      "Successfully installed stanza-1.2\n"
     ]
    }
   ],
   "source": [
    "#We install and import some librairies\n",
    "!pip install stanza -U\n"
   ]
  },
  {
   "cell_type": "code",
   "execution_count": 65,
   "metadata": {
    "id": "n7Akaw2Fbebd"
   },
   "outputs": [],
   "source": [
    "from nltk.corpus import wordnet\n",
    "from nltk.tokenize import word_tokenize, sent_tokenize\n",
    "from nltk.stem.wordnet import WordNetLemmatizer \n",
    "#import stanfordnlp\n",
    "\n",
    "import stanza\n"
   ]
  },
  {
   "cell_type": "markdown",
   "metadata": {
    "id": "96EiesSdb6SP"
   },
   "source": [
    "Now download the Stanza English model and some nltk tools that will be later used for extracting the Dependency relation in the text and other text preprocessing tasks."
   ]
  },
  {
   "cell_type": "code",
   "execution_count": 66,
   "metadata": {
    "colab": {
     "base_uri": "https://localhost:8080/"
    },
    "id": "3wO16DHtb-e8",
    "outputId": "bf482a76-ad0c-49e2-a266-6d20a5cfcc90"
   },
   "outputs": [
    {
     "name": "stderr",
     "output_type": "stream",
     "text": [
      "Downloading https://raw.githubusercontent.com/stanfordnlp/stanza-resources/master/resources_1.2.0.json: 128kB [00:00, 33.7MB/s]                    \n",
      "2021-04-24 10:33:09 INFO: Downloading default packages for language: en (English)...\n",
      "Downloading http://nlp.stanford.edu/software/stanza/1.2.0/en/default.zip: 100%|██████████| 411M/411M [01:15<00:00, 5.42MB/s]\n",
      "2021-04-24 10:34:32 INFO: Finished downloading models and saved to /root/stanza_resources.\n"
     ]
    },
    {
     "name": "stdout",
     "output_type": "stream",
     "text": [
      "[nltk_data] Downloading package averaged_perceptron_tagger to\n",
      "[nltk_data]     /root/nltk_data...\n",
      "[nltk_data]   Unzipping taggers/averaged_perceptron_tagger.zip.\n",
      "[nltk_data] Downloading package punkt to /root/nltk_data...\n",
      "[nltk_data]   Unzipping tokenizers/punkt.zip.\n"
     ]
    }
   ],
   "source": [
    "#stanfordnlp.download('en')\n",
    "stanza.download('en')       # This downloads the English models for the neural pipeline\n",
    "\n",
    "nltk.download('averaged_perceptron_tagger')\n",
    "nltk.download('punkt')\n",
    "#sent_detector = nltk.data.load('tokenizers/punkt/english.pickle')\n"
   ]
  },
  {
   "cell_type": "markdown",
   "metadata": {
    "id": "M6ofu0o-Z3zv"
   },
   "source": [
    "Now for each sentence in the tweet tokenize it and perform POS Tagging and store it into a Tagged List."
   ]
  },
  {
   "cell_type": "code",
   "execution_count": 67,
   "metadata": {
    "id": "SxJ9msOZZ7Nr"
   },
   "outputs": [],
   "source": [
    "#tokenizer = TweetTokenizer()\n",
    "\n",
    "def tweet_Postag(sentence):\n",
    "  \n",
    "  txt_list = nltk.word_tokenize(sentence) #tokenizer.tokenize(sentence)     # word tokenize of the sentence\n",
    "  \n",
    "  tagged= nltk.pos_tag(txt_list) #Pos tag of the sentence\n",
    "  return tagged\n"
   ]
  },
  {
   "cell_type": "code",
   "execution_count": 68,
   "metadata": {
    "colab": {
     "base_uri": "https://localhost:8080/"
    },
    "id": "rqMFrtiKaGti",
    "outputId": "671fb127-fc35-4a51-e116-78e335530782"
   },
   "outputs": [
    {
     "name": "stdout",
     "output_type": "stream",
     "text": [
      "[('climate', 'NN'), ('change', 'NN'), ('is', 'VBZ'), ('an', 'DT'), ('interesting', 'JJ'), ('hustle', 'NN'), ('as', 'IN'), ('it', 'PRP'), ('was', 'VBD'), ('global', 'JJ'), ('warming', 'NN'), ('but', 'CC'), ('the', 'DT'), ('planet', 'NN'), ('stopped', 'VBD'), ('warming', 'VBG'), ('for', 'IN'), ('yes', 'NNS'), ('while', 'IN'), ('the', 'DT'), ('suv', 'NN'), ('boom', 'NN')]\n"
     ]
    }
   ],
   "source": [
    "sentence=data['cleaned_tweets'][0]\n",
    "tag=tweet_Postag(sentence)\n",
    "print(tag)"
   ]
  },
  {
   "cell_type": "markdown",
   "metadata": {
    "id": "JD84B8okceRV"
   },
   "source": [
    "Now there are many instances where a feature is represented by multiple words so we need to handle that first by joining multiple words features into a one-word feature."
   ]
  },
  {
   "cell_type": "code",
   "execution_count": 69,
   "metadata": {
    "id": "ZLVwKOHycflP"
   },
   "outputs": [],
   "source": [
    "def joining_word(taggedList):\n",
    "  newwordList = []\n",
    "  flag = 0\n",
    "  for i in range(0,len(taggedList)-1):\n",
    "    if (taggedList[i][1]==\"NN\" and taggedList[i+1][1]==\"NN\"):\n",
    "      newwordList.append(taggedList[i][0]+taggedList[i+1][0])  #concatenate two consecutive words\n",
    "      flag=1\n",
    "    else:\n",
    "      if (flag==1):\n",
    "        flag=0\n",
    "        continue\n",
    "      newwordList.append(taggedList[i][0])\n",
    "      if (i==len(taggedList)-2):\n",
    "        newwordList.append(taggedList[i+1][0])\n",
    "  finaltxt = ' '.join(word for word in newwordList)   \n",
    "  return [finaltxt, newwordList]\n"
   ]
  },
  {
   "cell_type": "code",
   "execution_count": 75,
   "metadata": {
    "colab": {
     "base_uri": "https://localhost:8080/"
    },
    "id": "e7wmfHjtczXM",
    "outputId": "66fe8f37-354c-4a77-d13f-c6262c8b0aed"
   },
   "outputs": [
    {
     "name": "stdout",
     "output_type": "stream",
     "text": [
      "climatechange is an interesting hustle as it was global warming but the planet stopped warming for yes while the suvboom\n",
      "['climatechange', 'is', 'an', 'interesting', 'hustle', 'as', 'it', 'was', 'global', 'warming', 'but', 'the', 'planet', 'stopped', 'warming', 'for', 'yes', 'while', 'the', 'suvboom']\n"
     ]
    }
   ],
   "source": [
    "txt=joining_word(tag)[0]\n",
    "wordList=joining_word(tag)[1]\n",
    "\n",
    "print(txt)\n",
    "print(wordList)\n"
   ]
  },
  {
   "cell_type": "markdown",
   "metadata": {
    "id": "jUfn1WUOd5Bh"
   },
   "source": [
    "Tokenize and POS Tag the new sentence. \n"
   ]
  },
  {
   "cell_type": "code",
   "execution_count": 78,
   "metadata": {
    "colab": {
     "base_uri": "https://localhost:8080/"
    },
    "id": "AtlbbmkueTPa",
    "outputId": "35746922-e25e-4162-e603-eeba5febc6c5"
   },
   "outputs": [
    {
     "data": {
      "text/plain": [
       "[('climatechange', 'NN'),\n",
       " ('is', 'VBZ'),\n",
       " ('an', 'DT'),\n",
       " ('interesting', 'JJ'),\n",
       " ('hustle', 'NN'),\n",
       " ('as', 'IN'),\n",
       " ('it', 'PRP'),\n",
       " ('was', 'VBD'),\n",
       " ('global', 'JJ'),\n",
       " ('warming', 'NN'),\n",
       " ('but', 'CC'),\n",
       " ('the', 'DT'),\n",
       " ('planet', 'NN'),\n",
       " ('stopped', 'VBD'),\n",
       " ('warming', 'VBG'),\n",
       " ('for', 'IN'),\n",
       " ('yes', 'NNS'),\n",
       " ('while', 'IN'),\n",
       " ('the', 'DT'),\n",
       " ('suvboom', 'NN')]"
      ]
     },
     "execution_count": 78,
     "metadata": {
      "tags": []
     },
     "output_type": "execute_result"
    }
   ],
   "source": [
    "tag1=tweet_Postag(txt)\n",
    "tag1\n"
   ]
  },
  {
   "cell_type": "markdown",
   "metadata": {
    "id": "JsLN1fh0edhf"
   },
   "source": [
    "Now we will use the Stanza NLP Dependency Parser to get the relations between each word."
   ]
  },
  {
   "cell_type": "code",
   "execution_count": 79,
   "metadata": {
    "colab": {
     "base_uri": "https://localhost:8080/"
    },
    "id": "UcNRiSp0en4p",
    "outputId": "20275837-edb4-4da4-fa14-b04651736e42"
   },
   "outputs": [
    {
     "name": "stderr",
     "output_type": "stream",
     "text": [
      "2021-04-24 10:44:30 INFO: Loading these models for language: en (English):\n",
      "=========================\n",
      "| Processor | Package   |\n",
      "-------------------------\n",
      "| tokenize  | combined  |\n",
      "| pos       | combined  |\n",
      "| lemma     | combined  |\n",
      "| depparse  | combined  |\n",
      "| sentiment | sstplus   |\n",
      "| ner       | ontonotes |\n",
      "=========================\n",
      "\n",
      "2021-04-24 10:44:30 INFO: Use device: cpu\n",
      "2021-04-24 10:44:30 INFO: Loading: tokenize\n",
      "2021-04-24 10:44:30 INFO: Loading: pos\n",
      "2021-04-24 10:44:31 INFO: Loading: lemma\n",
      "2021-04-24 10:44:31 INFO: Loading: depparse\n",
      "2021-04-24 10:44:32 INFO: Loading: sentiment\n",
      "2021-04-24 10:44:32 INFO: Loading: ner\n",
      "2021-04-24 10:44:33 INFO: Done loading processors!\n"
     ]
    }
   ],
   "source": [
    "nlp = stanza.Pipeline('en') # This sets up a default neural pipeline in English"
   ]
  },
  {
   "cell_type": "code",
   "execution_count": 81,
   "metadata": {
    "id": "9miyRIpHe2Pj"
   },
   "outputs": [],
   "source": [
    "def par_depend(finaltxt, newwordList):\n",
    "  doc = nlp(finaltxt)\n",
    "  dep_node = []\n",
    "  for dep_edge in doc.sentences[0].dependencies:\n",
    "    dep_node.append([dep_edge[2].text, dep_edge[0].id, dep_edge[1]])\n",
    "  for i in range(0, len(dep_node)):\n",
    "    if (int(dep_node[i][1]) != 0):\n",
    "        dep_node[i][1] = newwordList[(int(dep_node[i][1]) - 1)]\n",
    "  return dep_node"
   ]
  },
  {
   "cell_type": "code",
   "execution_count": 83,
   "metadata": {
    "colab": {
     "base_uri": "https://localhost:8080/"
    },
    "id": "AYoiIYL8fEeb",
    "outputId": "58db3e8d-94b7-4c8c-bb8d-f675b82b19b1"
   },
   "outputs": [
    {
     "data": {
      "text/plain": [
       "[['climatechange', 'hustle', 'nsubj'],\n",
       " ['is', 'hustle', 'cop'],\n",
       " ['an', 'hustle', 'det'],\n",
       " ['interesting', 'hustle', 'amod'],\n",
       " ['hustle', 0, 'root'],\n",
       " ['as', 'warming', 'mark'],\n",
       " ['it', 'warming', 'nsubj'],\n",
       " ['was', 'warming', 'cop'],\n",
       " ['global', 'warming', 'amod'],\n",
       " ['warming', 'hustle', 'advcl'],\n",
       " ['but', 'stopped', 'cc'],\n",
       " ['the', 'planet', 'det'],\n",
       " ['planet', 'stopped', 'nsubj'],\n",
       " ['stopped', 'hustle', 'conj'],\n",
       " ['warming', 'stopped', 'xcomp'],\n",
       " ['for', 'yes', 'case'],\n",
       " ['yes', 'warming', 'obl'],\n",
       " ['while', 'suvboom', 'mark'],\n",
       " ['the', 'suvboom', 'det'],\n",
       " ['suvboom', 'warming', 'obl']]"
      ]
     },
     "execution_count": 83,
     "metadata": {
      "tags": []
     },
     "output_type": "execute_result"
    }
   ],
   "source": [
    "dep_node=par_depend(txt,wordList)\n",
    "dep_node"
   ]
  },
  {
   "cell_type": "markdown",
   "metadata": {
    "id": "-HV2_P-MfanL"
   },
   "source": [
    "Now we will select only those sublists from the taggedList that could probably contain the features."
   ]
  },
  {
   "cell_type": "code",
   "execution_count": 84,
   "metadata": {
    "id": "kSjvmKYRfbod"
   },
   "outputs": [],
   "source": [
    "def feat_cat_list(taggedList):\n",
    "  featureList = [] #We will store some words with their tags\n",
    "  categoriesList = []\n",
    "\n",
    "  for i in taggedList:\n",
    "    if(i[1]=='JJ' or i[1]=='NN' or i[1]=='JJR' or i[1]=='NNS' or i[1]=='RB'):\n",
    "        featureList.append(list(i))\n",
    "        categoriesList.append(i[0])\n",
    "  return [featureList,categoriesList]"
   ]
  },
  {
   "cell_type": "code",
   "execution_count": 85,
   "metadata": {
    "colab": {
     "base_uri": "https://localhost:8080/"
    },
    "id": "xt16UUOlfi02",
    "outputId": "18b1da3f-8800-472c-e52d-be61d3622791"
   },
   "outputs": [
    {
     "name": "stdout",
     "output_type": "stream",
     "text": [
      "[['climatechange', 'NN'], ['interesting', 'JJ'], ['hustle', 'NN'], ['global', 'JJ'], ['warming', 'NN'], ['planet', 'NN'], ['yes', 'NNS'], ['suvboom', 'NN']]\n",
      "['climatechange', 'interesting', 'hustle', 'global', 'warming', 'planet', 'yes', 'suvboom']\n"
     ]
    }
   ],
   "source": [
    "feature_list,categories_list=feat_cat_list(tag1)\n",
    "print(feature_list)\n",
    "print(categories_list)"
   ]
  },
  {
   "cell_type": "markdown",
   "metadata": {
    "id": "a8GMUgQqgBSP"
   },
   "source": [
    "Now using the Dependency Parser list and the feature list we will determine to which of the words these features in the feature list are related to."
   ]
  },
  {
   "cell_type": "code",
   "execution_count": 159,
   "metadata": {
    "id": "MN2ajBregq0A"
   },
   "outputs": [],
   "source": [
    "def word_relation(featureList,dep_node):\n",
    "  fcluster = []\n",
    "  for i in featureList:\n",
    "    filist = [] #for eah word in the feature list, we will store some words related to that word\n",
    "    for j in dep_node:\n",
    "        if((j[0]==i[0] or j[1]==i[0]) and (j[2] in [\"nsubj\", \"acl:relcl\", \"obj\", \"dobj\", \"agent\", \"advmod\", \"amod\", \"neg\", \"prep_of\", \"acomp\", \"xcomp\", \"compound\"])):\n",
    "            if(j[0]==i[0]):\n",
    "                filist.append(j[1])\n",
    "    \n",
    "    fcluster.append([i[0], filist])\n",
    "  return fcluster\n"
   ]
  },
  {
   "cell_type": "code",
   "execution_count": 91,
   "metadata": {
    "colab": {
     "base_uri": "https://localhost:8080/"
    },
    "id": "uWQTJpQdgDbA",
    "outputId": "72ec90dd-9fda-4518-ce9d-019ff6928051"
   },
   "outputs": [
    {
     "data": {
      "text/plain": [
       "[['climatechange', ['hustle']],\n",
       " ['interesting', ['hustle']],\n",
       " ['hustle', []],\n",
       " ['global', ['warming']],\n",
       " ['warming', ['stopped']],\n",
       " ['planet', ['stopped']],\n",
       " ['yes', []],\n",
       " ['suvboom', []]]"
      ]
     },
     "execution_count": 91,
     "metadata": {
      "tags": []
     },
     "output_type": "execute_result"
    }
   ],
   "source": [
    "fcluster=word_relation(feature_list,dep_node)\n",
    "fcluster"
   ]
  },
  {
   "cell_type": "markdown",
   "metadata": {
    "id": "_gbfbnnzhX0j"
   },
   "source": [
    "So as you can see we have got the feature words and for each word a list of words it is related to. Now select only the feature Nouns List from the fcluster."
   ]
  },
  {
   "cell_type": "code",
   "execution_count": 94,
   "metadata": {
    "id": "cCclGFiLhaNj"
   },
   "outputs": [],
   "source": [
    "def feature_selection(featureList,fcluster):\n",
    "  finalcluster = []\n",
    "  dic = {}\n",
    "  for i in featureList:\n",
    "    dic[i[0]] = i[1]\n",
    "  for i in fcluster:\n",
    "    if(dic[i[0]]==\"NN\") and len(i[1])!=0:  #select the feature nouns and remove nouns with empty sentiment\n",
    "        finalcluster.append(i)\n",
    "  return finalcluster\n"
   ]
  },
  {
   "cell_type": "code",
   "execution_count": 95,
   "metadata": {
    "colab": {
     "base_uri": "https://localhost:8080/"
    },
    "id": "uv4OqrtwhmGs",
    "outputId": "f1a218ae-7251-4c91-a5a4-d814490d3d9f"
   },
   "outputs": [
    {
     "data": {
      "text/plain": [
       "[['climatechange', ['hustle']],\n",
       " ['warming', ['stopped']],\n",
       " ['planet', ['stopped']]]"
      ]
     },
     "execution_count": 95,
     "metadata": {
      "tags": []
     },
     "output_type": "execute_result"
    }
   ],
   "source": [
    "final_cluster=feature_selection(feature_list,fcluster)\n",
    "final_cluster"
   ]
  },
  {
   "cell_type": "markdown",
   "metadata": {
    "id": "dDkVZxBIk3GJ"
   },
   "source": [
    "Here the aspect sentiment analysis function with many sentences"
   ]
  },
  {
   "cell_type": "code",
   "execution_count": 164,
   "metadata": {
    "id": "pyYWyBXrk-sw"
   },
   "outputs": [],
   "source": [
    "def aspect_sentiment_analysis(corpus):\n",
    "    \n",
    "    #sentList = nltk.sent_tokenize(tweet) # Splitting the tweet into sentences\n",
    "\n",
    "    finalCluster = [] #List to store all the aspect and sentiment of all the sentences in the tweet\n",
    "    \n",
    "\n",
    "    for sent in corpus:\n",
    "      tagged_list=tweet_Postag(sent) #Pos-tagging the sentence\n",
    "      if len(tagged_list)>1:\n",
    "        final_txt,newword_list= joining_word(tagged_list) #joigning word in the sentence\n",
    "        tagged_list=tweet_Postag(final_txt) #Pos-tagging the new sentence\n",
    "\n",
    "\n",
    "        dep_node1=par_depend(final_txt,newword_list)  #Getting relationship between words\n",
    "        feature_list=feat_cat_list(tagged_list)[0] #create a feature list\n",
    "        f_cluster=word_relation(feature_list,dep_node1) #creating a relation between words in the feature list\n",
    "        final_cluster=feature_selection(feature_list,f_cluster) #selecting aspect and sentiment\n",
    "      else:\n",
    "        final_cluster=[]\n",
    "\n",
    "\n",
    "      finalCluster.append(final_cluster)\n",
    "      \n",
    "    return finalCluster\n"
   ]
  },
  {
   "cell_type": "markdown",
   "metadata": {
    "id": "542itA3Hqqxy"
   },
   "source": [
    "## We evaluate our aspect based sentiment analysis "
   ]
  },
  {
   "cell_type": "markdown",
   "metadata": {
    "id": "BH08IlVDu3BG"
   },
   "source": [
    "### Let us look at the outpout for the first 10 pro climate tweets"
   ]
  },
  {
   "cell_type": "code",
   "execution_count": 121,
   "metadata": {
    "id": "gjeVb2dcqscp"
   },
   "outputs": [],
   "source": [
    "\n",
    "corpus=data.loc[data['sentiment']==1,'cleaned_tweets'][0:10]\n",
    "aspect_sent_pro=aspect_sentiment_analysis(corpus)\n"
   ]
  },
  {
   "cell_type": "code",
   "execution_count": 130,
   "metadata": {
    "id": "tjHKRhHEvibM"
   },
   "outputs": [],
   "source": [
    "tweets_pro=data.loc[data['sentiment']==1,'cleaned_tweets'][0:10]\n",
    "dict_pro={'message_pro':tweets_pro,'aspect_sentiment':aspect_sent_pro}\n",
    "df_pro=pd.DataFrame(data=dict_pro)\n",
    "df_pro=df_pro.reset_index(drop=True)"
   ]
  },
  {
   "cell_type": "code",
   "execution_count": 131,
   "metadata": {
    "colab": {
     "base_uri": "https://localhost:8080/",
     "height": 133
    },
    "id": "hmgFk-KNvZS1",
    "outputId": "7dc43d8c-83b4-4489-a928-258b5d306927"
   },
   "outputs": [
    {
     "data": {
      "text/html": [
       "<div>\n",
       "<style scoped>\n",
       "    .dataframe tbody tr th:only-of-type {\n",
       "        vertical-align: middle;\n",
       "    }\n",
       "\n",
       "    .dataframe tbody tr th {\n",
       "        vertical-align: top;\n",
       "    }\n",
       "\n",
       "    .dataframe thead th {\n",
       "        text-align: right;\n",
       "    }\n",
       "</style>\n",
       "<table border=\"1\" class=\"dataframe\">\n",
       "  <thead>\n",
       "    <tr style=\"text-align: right;\">\n",
       "      <th></th>\n",
       "      <th>message_pro</th>\n",
       "      <th>aspect_sentiment</th>\n",
       "    </tr>\n",
       "  </thead>\n",
       "  <tbody>\n",
       "    <tr>\n",
       "      <th>0</th>\n",
       "      <td>watch beforetheflood right here as travels the...</td>\n",
       "      <td>[[world, [travels]], [climatechange, [tackle]]]</td>\n",
       "    </tr>\n",
       "    <tr>\n",
       "      <th>1</th>\n",
       "      <td>fabulous leonardo dicaprio's film on climate c...</td>\n",
       "      <td>[[film, [brilliant]]]</td>\n",
       "    </tr>\n",
       "    <tr>\n",
       "      <th>2</th>\n",
       "      <td>just watched this amazing documentary by leona...</td>\n",
       "      <td>[[documentary, [watched]]]</td>\n",
       "    </tr>\n",
       "  </tbody>\n",
       "</table>\n",
       "</div>"
      ],
      "text/plain": [
       "                                         message_pro                                 aspect_sentiment\n",
       "0  watch beforetheflood right here as travels the...  [[world, [travels]], [climatechange, [tackle]]]\n",
       "1  fabulous leonardo dicaprio's film on climate c...                            [[film, [brilliant]]]\n",
       "2  just watched this amazing documentary by leona...                       [[documentary, [watched]]]"
      ]
     },
     "execution_count": 131,
     "metadata": {
      "tags": []
     },
     "output_type": "execute_result"
    }
   ],
   "source": [
    "df_pro.head(3)"
   ]
  },
  {
   "cell_type": "code",
   "execution_count": 139,
   "metadata": {
    "colab": {
     "base_uri": "https://localhost:8080/"
    },
    "id": "2IehK2Fhw5p1",
    "outputId": "0765da08-1252-4c4b-a4de-05e66b80c843"
   },
   "outputs": [
    {
     "name": "stdout",
     "output_type": "stream",
     "text": [
      "0 message_pro: watch beforetheflood right here as travels the world to tackle climate change htt\n",
      "aspect_sentiment: [['world', ['travels']], ['climatechange', ['tackle']]]\n",
      "1 message_pro: fabulous leonardo dicaprio's film on climate change is brilliant do watch via\n",
      "aspect_sentiment: [['film', ['brilliant']]]\n",
      "2 message_pro: just watched this amazing documentary by leonardodicaprio on climate change we all think this\n",
      "aspect_sentiment: [['documentary', ['watched']]]\n"
     ]
    }
   ],
   "source": [
    "for i in range(3):\n",
    "  print(i,'message_pro:',df_pro['message_pro'][i])\n",
    "  print('aspect_sentiment:', df_pro['aspect_sentiment'][i])\n",
    "\n"
   ]
  },
  {
   "cell_type": "markdown",
   "metadata": {
    "id": "V_8IeQYe2Oc8"
   },
   "source": [
    "From these few examples, we can conclude that our aspect-based sentiment analysis capture a bit the spirit of the pro climate tweets "
   ]
  },
  {
   "cell_type": "markdown",
   "metadata": {
    "id": "aeg5uzCb2mOJ"
   },
   "source": [
    "### Let us look at the outpout for the first 10 anti climate tweets"
   ]
  },
  {
   "cell_type": "code",
   "execution_count": 165,
   "metadata": {
    "id": "ZVLbykha2sj2"
   },
   "outputs": [],
   "source": [
    "corpus=data.loc[data['sentiment']==-1,'cleaned_tweets'][0:10]\n",
    "aspect_sent_anti=aspect_sentiment_analysis(corpus)\n"
   ]
  },
  {
   "cell_type": "code",
   "execution_count": 166,
   "metadata": {
    "id": "vVqvxIVw2Nhp"
   },
   "outputs": [],
   "source": [
    "tweets=data.loc[data['sentiment']==-1,'cleaned_tweets'][0:10]\n",
    "dict1={'message_anti':tweets,'aspect_sentiment':aspect_sent_anti}\n",
    "df=pd.DataFrame(data=dict1)\n",
    "df_anti=df.reset_index(drop=True)"
   ]
  },
  {
   "cell_type": "code",
   "execution_count": 143,
   "metadata": {
    "colab": {
     "base_uri": "https://localhost:8080/"
    },
    "id": "ngT4-Nqw30dX",
    "outputId": "3cbd9f0c-626f-4b80-b8a9-bf395deb4025"
   },
   "outputs": [
    {
     "name": "stdout",
     "output_type": "stream",
     "text": [
      "0 message_anti: climate change is an interesting hustle as it was global warming but the planet stopped warming for yes while the suv boom\n",
      "aspect_sentiment: [['climatechange', ['hustle']], ['warming', ['stopped']], ['planet', ['stopped']]]\n",
      "1 message_anti: arseholes couldn't predict tomorrows weather in a month heat wave yet we trust them on climate change narrr\n",
      "aspect_sentiment: [['monthheat', ['wave']], ['climatechange', ['changenarrr']]]\n",
      "2 message_anti: you do understand that climate change is natural not necessarily caused by humans it snowed in miami and the atlantic froze\n",
      "aspect_sentiment: [['climatechange', ['natural']]]\n"
     ]
    }
   ],
   "source": [
    "for i in range(3):\n",
    "  print(i,'message_anti:',df_anti['message_anti'][i])\n",
    "  print('aspect_sentiment:', df_anti['aspect_sentiment'][i])\n"
   ]
  },
  {
   "cell_type": "markdown",
   "metadata": {
    "id": "2iNcGPCW4ZiH"
   },
   "source": [
    "From these few examples, we can conclude that our aspect-based sentiment analysis does not capture very well the anti climate tweets "
   ]
  },
  {
   "cell_type": "markdown",
   "metadata": {
    "id": "zntf74mk4p0x"
   },
   "source": [
    "### Let us look at the outpout for the first 10 neutral climate tweets"
   ]
  },
  {
   "cell_type": "code",
   "execution_count": 144,
   "metadata": {
    "id": "rGm-inQ54zGh"
   },
   "outputs": [],
   "source": [
    "corpus=data.loc[data['sentiment']==0,'cleaned_tweets'][0:10]\n",
    "aspect_sent_neut=aspect_sentiment_analysis(corpus)\n"
   ]
  },
  {
   "cell_type": "code",
   "execution_count": 146,
   "metadata": {
    "colab": {
     "base_uri": "https://localhost:8080/"
    },
    "id": "GZjuEyKL49iV",
    "outputId": "39d7527d-7edf-424d-d6c0-30d4df6a38b5"
   },
   "outputs": [
    {
     "name": "stdout",
     "output_type": "stream",
     "text": [
      "0 message_neutral: unamshow awache kujinga na iko global warming\n",
      "aspect_sentiment: [['iko', ['warming']]]\n",
      "1 message_neutral: leonardo dicaprio's climate change documentary is free for a week indigenous tairp\n",
      "aspect_sentiment: [['climatechange', ['changedocumentary']], ['changedocumentary', ['free']], ['week', ['tairp']]]\n",
      "2 message_neutral: national geographics climate change documentary with leonardo dicaprio is now on youtube via\n",
      "aspect_sentiment: []\n"
     ]
    }
   ],
   "source": [
    "tweets=data.loc[data['sentiment']==0,'cleaned_tweets'][0:10]\n",
    "dict1={'message_neutral':tweets,'aspect_sentiment':aspect_sent_neut}\n",
    "df=pd.DataFrame(data=dict1)\n",
    "df_neut=df.reset_index(drop=True)\n",
    "\n",
    "for i in range(3):\n",
    "  print(i,'message_neutral:',df_neut['message_neutral'][i])\n",
    "  print('aspect_sentiment:', df_neut['aspect_sentiment'][i])\n"
   ]
  },
  {
   "cell_type": "markdown",
   "metadata": {
    "id": "y3_erse_6A1C"
   },
   "source": [
    "From these few examples, we can conclude that our aspect-based sentiment analysis does not capture at all neutral climate tweets "
   ]
  },
  {
   "cell_type": "markdown",
   "metadata": {
    "id": "eGvHTbB86Pzg"
   },
   "source": [
    "### Let us look at the outpout for the first 10 news climate tweets"
   ]
  },
  {
   "cell_type": "code",
   "execution_count": 147,
   "metadata": {
    "id": "oXmUmwLr4Ydu"
   },
   "outputs": [],
   "source": [
    "corpus=data.loc[data['sentiment']==2,'cleaned_tweets'][0:10]\n",
    "aspect_sent_news=aspect_sentiment_analysis(corpus)\n"
   ]
  },
  {
   "cell_type": "code",
   "execution_count": 148,
   "metadata": {
    "colab": {
     "base_uri": "https://localhost:8080/"
    },
    "id": "gEMT7WO56wZj",
    "outputId": "f79963e1-750a-4adf-a905-398e1660f599"
   },
   "outputs": [
    {
     "name": "stdout",
     "output_type": "stream",
     "text": [
      "0 message_news: pranita biswasi a lutheran from odisha gives testimony on effects of climate change amp natural disasters on the po\n",
      "aspect_sentiment: [['biswasi', ['gives']], ['lutheran', ['gives']], ['testimony', ['gives']], ['climatechange', ['amp']]]\n",
      "1 message_news: presidential candidate donaldtrump is dangerous on climate change says monaco s prince albert\n",
      "aspect_sentiment: [['candidatedonaldtrump', ['dangerous']], ['sprince', ['princealbert']], ['princealbert', ['says']]]\n",
      "2 message_news: reflections on leonardo dicaprios new climate change film beforetheflood\n",
      "aspect_sentiment: [['climatechange', ['filmbeforetheflood']], ['changefilm', ['filmbeforetheflood']], ['filmbeforetheflood', ['dicaprios']]]\n"
     ]
    }
   ],
   "source": [
    "tweets=data.loc[data['sentiment']==2,'cleaned_tweets'][0:10]\n",
    "dict1={'message_news':tweets,'aspect_sentiment':aspect_sent_news}\n",
    "df=pd.DataFrame(data=dict1)\n",
    "df_news=df.reset_index(drop=True)\n",
    "\n",
    "for i in range(3):\n",
    "  print(i,'message_news:',df_news['message_news'][i])\n",
    "  print('aspect_sentiment:', df_news['aspect_sentiment'][i])\n"
   ]
  },
  {
   "cell_type": "markdown",
   "metadata": {
    "id": "-fHSH2Rc7sAP"
   },
   "source": [
    "From these few examples, we can conclude that our aspect-based sentiment analysis does capture very well  climate tweets on news "
   ]
  },
  {
   "cell_type": "markdown",
   "metadata": {
    "id": "PQx8ptuD73YW"
   },
   "source": [
    "To conclude our  aspect-based sentiment analysis is not good in general. This could be due partly to the ambiguity of tweets, the quality of tweets and their cleaning. Another reason could be the fact that we did not fixed the aspects and sentiments that we want to look for or the fact that our relationships functions need some improvements. We lacked time to tackle these issues and we leave it as a future work. "
   ]
  },
  {
   "cell_type": "code",
   "execution_count": null,
   "metadata": {},
   "outputs": [],
   "source": []
  }
 ],
 "metadata": {
  "colab": {
   "collapsed_sections": [],
   "name": "Climate_Sentiment_Analysis_Qualitative_Evaluation.ipynb",
   "provenance": [],
   "toc_visible": true
  },
  "kernelspec": {
   "display_name": "Python 3",
   "language": "python",
   "name": "python3"
  },
  "language_info": {
   "codemirror_mode": {
    "name": "ipython",
    "version": 3
   },
   "file_extension": ".py",
   "mimetype": "text/x-python",
   "name": "python",
   "nbconvert_exporter": "python",
   "pygments_lexer": "ipython3",
   "version": "3.7.3"
  }
 },
 "nbformat": 4,
 "nbformat_minor": 1
}
